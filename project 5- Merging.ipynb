{
 "cells": [
  {
   "cell_type": "code",
   "execution_count": 1,
   "metadata": {},
   "outputs": [],
   "source": [
    "import numpy as np, pandas as pd"
   ]
  },
  {
   "cell_type": "code",
   "execution_count": 2,
   "metadata": {},
   "outputs": [
    {
     "data": {
      "text/html": [
       "<div>\n",
       "<style scoped>\n",
       "    .dataframe tbody tr th:only-of-type {\n",
       "        vertical-align: middle;\n",
       "    }\n",
       "\n",
       "    .dataframe tbody tr th {\n",
       "        vertical-align: top;\n",
       "    }\n",
       "\n",
       "    .dataframe thead th {\n",
       "        text-align: right;\n",
       "    }\n",
       "</style>\n",
       "<table border=\"1\" class=\"dataframe\">\n",
       "  <thead>\n",
       "    <tr style=\"text-align: right;\">\n",
       "      <th></th>\n",
       "      <th>Date</th>\n",
       "      <th>Value</th>\n",
       "    </tr>\n",
       "  </thead>\n",
       "  <tbody>\n",
       "    <tr>\n",
       "      <th>0</th>\n",
       "      <td>2020-05-31</td>\n",
       "      <td>0.0453</td>\n",
       "    </tr>\n",
       "    <tr>\n",
       "      <th>1</th>\n",
       "      <td>2020-06-30</td>\n",
       "      <td>0.0184</td>\n",
       "    </tr>\n",
       "    <tr>\n",
       "      <th>2</th>\n",
       "      <td>2020-07-31</td>\n",
       "      <td>0.0551</td>\n",
       "    </tr>\n",
       "    <tr>\n",
       "      <th>3</th>\n",
       "      <td>2020-08-31</td>\n",
       "      <td>0.0701</td>\n",
       "    </tr>\n",
       "    <tr>\n",
       "      <th>4</th>\n",
       "      <td>2020-09-30</td>\n",
       "      <td>-0.0392</td>\n",
       "    </tr>\n",
       "  </tbody>\n",
       "</table>\n",
       "</div>"
      ],
      "text/plain": [
       "        Date   Value\n",
       "0 2020-05-31  0.0453\n",
       "1 2020-06-30  0.0184\n",
       "2 2020-07-31  0.0551\n",
       "3 2020-08-31  0.0701\n",
       "4 2020-09-30 -0.0392"
      ]
     },
     "execution_count": 2,
     "metadata": {},
     "output_type": "execute_result"
    }
   ],
   "source": [
    "df_index = pd.read_excel('D:sp_index.xlsx' , header=2).iloc[:,1:].sort_index(axis=0 , ascending = False).reset_index().iloc[:,1:]\n",
    "df_index.head()"
   ]
  },
  {
   "cell_type": "code",
   "execution_count": 3,
   "metadata": {
    "scrolled": true
   },
   "outputs": [
    {
     "name": "stdout",
     "output_type": "stream",
     "text": [
      "<class 'pandas.core.frame.DataFrame'>\n",
      "RangeIndex: 50 entries, 0 to 49\n",
      "Data columns (total 2 columns):\n",
      " #   Column  Non-Null Count  Dtype         \n",
      "---  ------  --------------  -----         \n",
      " 0   Date    50 non-null     datetime64[ns]\n",
      " 1   Value   50 non-null     float64       \n",
      "dtypes: datetime64[ns](1), float64(1)\n",
      "memory usage: 928.0 bytes\n"
     ]
    }
   ],
   "source": [
    "df_index.info()"
   ]
  },
  {
   "cell_type": "code",
   "execution_count": 4,
   "metadata": {},
   "outputs": [
    {
     "data": {
      "text/plain": [
       "Timestamp('2020-07-31 00:00:00')"
      ]
     },
     "execution_count": 4,
     "metadata": {},
     "output_type": "execute_result"
    }
   ],
   "source": [
    "df_index.loc[2,'Date']"
   ]
  },
  {
   "cell_type": "code",
   "execution_count": 5,
   "metadata": {
    "scrolled": false
   },
   "outputs": [
    {
     "data": {
      "text/html": [
       "<div>\n",
       "<style scoped>\n",
       "    .dataframe tbody tr th:only-of-type {\n",
       "        vertical-align: middle;\n",
       "    }\n",
       "\n",
       "    .dataframe tbody tr th {\n",
       "        vertical-align: top;\n",
       "    }\n",
       "\n",
       "    .dataframe thead th {\n",
       "        text-align: right;\n",
       "    }\n",
       "</style>\n",
       "<table border=\"1\" class=\"dataframe\">\n",
       "  <thead>\n",
       "    <tr style=\"text-align: right;\">\n",
       "      <th></th>\n",
       "      <th>location</th>\n",
       "      <th>name</th>\n",
       "      <th>freq</th>\n",
       "      <th>weighting</th>\n",
       "      <th>direction</th>\n",
       "      <th>n_stocks</th>\n",
       "      <th>n_stocks_min</th>\n",
       "      <th>date</th>\n",
       "      <th>ret</th>\n",
       "    </tr>\n",
       "  </thead>\n",
       "  <tbody>\n",
       "    <tr>\n",
       "      <th>0</th>\n",
       "      <td>usa</td>\n",
       "      <td>age</td>\n",
       "      <td>monthly</td>\n",
       "      <td>ew</td>\n",
       "      <td>-1</td>\n",
       "      <td>502</td>\n",
       "      <td>8</td>\n",
       "      <td>1926/03/31</td>\n",
       "      <td>-0.066167</td>\n",
       "    </tr>\n",
       "    <tr>\n",
       "      <th>1</th>\n",
       "      <td>usa</td>\n",
       "      <td>age</td>\n",
       "      <td>monthly</td>\n",
       "      <td>ew</td>\n",
       "      <td>-1</td>\n",
       "      <td>505</td>\n",
       "      <td>12</td>\n",
       "      <td>1926/04/30</td>\n",
       "      <td>0.010546</td>\n",
       "    </tr>\n",
       "    <tr>\n",
       "      <th>2</th>\n",
       "      <td>usa</td>\n",
       "      <td>age</td>\n",
       "      <td>monthly</td>\n",
       "      <td>ew</td>\n",
       "      <td>-1</td>\n",
       "      <td>510</td>\n",
       "      <td>17</td>\n",
       "      <td>1926/05/31</td>\n",
       "      <td>-0.020292</td>\n",
       "    </tr>\n",
       "    <tr>\n",
       "      <th>3</th>\n",
       "      <td>usa</td>\n",
       "      <td>age</td>\n",
       "      <td>monthly</td>\n",
       "      <td>ew</td>\n",
       "      <td>-1</td>\n",
       "      <td>512</td>\n",
       "      <td>21</td>\n",
       "      <td>1926/06/30</td>\n",
       "      <td>-0.008927</td>\n",
       "    </tr>\n",
       "    <tr>\n",
       "      <th>4</th>\n",
       "      <td>usa</td>\n",
       "      <td>age</td>\n",
       "      <td>monthly</td>\n",
       "      <td>ew</td>\n",
       "      <td>-1</td>\n",
       "      <td>503</td>\n",
       "      <td>23</td>\n",
       "      <td>1926/07/31</td>\n",
       "      <td>0.017724</td>\n",
       "    </tr>\n",
       "    <tr>\n",
       "      <th>...</th>\n",
       "      <td>...</td>\n",
       "      <td>...</td>\n",
       "      <td>...</td>\n",
       "      <td>...</td>\n",
       "      <td>...</td>\n",
       "      <td>...</td>\n",
       "      <td>...</td>\n",
       "      <td>...</td>\n",
       "      <td>...</td>\n",
       "    </tr>\n",
       "    <tr>\n",
       "      <th>142779</th>\n",
       "      <td>usa</td>\n",
       "      <td>zero_trades_252d</td>\n",
       "      <td>monthly</td>\n",
       "      <td>ew</td>\n",
       "      <td>1</td>\n",
       "      <td>3841</td>\n",
       "      <td>1554</td>\n",
       "      <td>2023/08/31</td>\n",
       "      <td>0.067512</td>\n",
       "    </tr>\n",
       "    <tr>\n",
       "      <th>142780</th>\n",
       "      <td>usa</td>\n",
       "      <td>zero_trades_252d</td>\n",
       "      <td>monthly</td>\n",
       "      <td>ew</td>\n",
       "      <td>1</td>\n",
       "      <td>3832</td>\n",
       "      <td>1548</td>\n",
       "      <td>2023/09/30</td>\n",
       "      <td>0.044560</td>\n",
       "    </tr>\n",
       "    <tr>\n",
       "      <th>142781</th>\n",
       "      <td>usa</td>\n",
       "      <td>zero_trades_252d</td>\n",
       "      <td>monthly</td>\n",
       "      <td>ew</td>\n",
       "      <td>1</td>\n",
       "      <td>3833</td>\n",
       "      <td>1547</td>\n",
       "      <td>2023/10/31</td>\n",
       "      <td>0.064437</td>\n",
       "    </tr>\n",
       "    <tr>\n",
       "      <th>142782</th>\n",
       "      <td>usa</td>\n",
       "      <td>zero_trades_252d</td>\n",
       "      <td>monthly</td>\n",
       "      <td>ew</td>\n",
       "      <td>1</td>\n",
       "      <td>3826</td>\n",
       "      <td>1575</td>\n",
       "      <td>2023/11/30</td>\n",
       "      <td>-0.037080</td>\n",
       "    </tr>\n",
       "    <tr>\n",
       "      <th>142783</th>\n",
       "      <td>usa</td>\n",
       "      <td>zero_trades_252d</td>\n",
       "      <td>monthly</td>\n",
       "      <td>ew</td>\n",
       "      <td>1</td>\n",
       "      <td>3807</td>\n",
       "      <td>1566</td>\n",
       "      <td>2023/12/31</td>\n",
       "      <td>-0.042181</td>\n",
       "    </tr>\n",
       "  </tbody>\n",
       "</table>\n",
       "<p>142784 rows × 9 columns</p>\n",
       "</div>"
      ],
      "text/plain": [
       "       location              name     freq weighting  direction  n_stocks  \\\n",
       "0           usa               age  monthly        ew         -1       502   \n",
       "1           usa               age  monthly        ew         -1       505   \n",
       "2           usa               age  monthly        ew         -1       510   \n",
       "3           usa               age  monthly        ew         -1       512   \n",
       "4           usa               age  monthly        ew         -1       503   \n",
       "...         ...               ...      ...       ...        ...       ...   \n",
       "142779      usa  zero_trades_252d  monthly        ew          1      3841   \n",
       "142780      usa  zero_trades_252d  monthly        ew          1      3832   \n",
       "142781      usa  zero_trades_252d  monthly        ew          1      3833   \n",
       "142782      usa  zero_trades_252d  monthly        ew          1      3826   \n",
       "142783      usa  zero_trades_252d  monthly        ew          1      3807   \n",
       "\n",
       "        n_stocks_min        date       ret  \n",
       "0                  8  1926/03/31 -0.066167  \n",
       "1                 12  1926/04/30  0.010546  \n",
       "2                 17  1926/05/31 -0.020292  \n",
       "3                 21  1926/06/30 -0.008927  \n",
       "4                 23  1926/07/31  0.017724  \n",
       "...              ...         ...       ...  \n",
       "142779          1554  2023/08/31  0.067512  \n",
       "142780          1548  2023/09/30  0.044560  \n",
       "142781          1547  2023/10/31  0.064437  \n",
       "142782          1575  2023/11/30 -0.037080  \n",
       "142783          1566  2023/12/31 -0.042181  \n",
       "\n",
       "[142784 rows x 9 columns]"
      ]
     },
     "execution_count": 5,
     "metadata": {},
     "output_type": "execute_result"
    }
   ],
   "source": [
    "df_factor = pd.read_csv('D:[usa]_[all_factors]_[monthly]_[ew].csv')\n",
    "df_factor"
   ]
  },
  {
   "cell_type": "code",
   "execution_count": 6,
   "metadata": {
    "scrolled": true
   },
   "outputs": [
    {
     "name": "stdout",
     "output_type": "stream",
     "text": [
      "<class 'pandas.core.frame.DataFrame'>\n",
      "RangeIndex: 142784 entries, 0 to 142783\n",
      "Data columns (total 9 columns):\n",
      " #   Column        Non-Null Count   Dtype  \n",
      "---  ------        --------------   -----  \n",
      " 0   location      142784 non-null  object \n",
      " 1   name          142784 non-null  object \n",
      " 2   freq          142784 non-null  object \n",
      " 3   weighting     142784 non-null  object \n",
      " 4   direction     142784 non-null  int64  \n",
      " 5   n_stocks      142784 non-null  int64  \n",
      " 6   n_stocks_min  142784 non-null  int64  \n",
      " 7   date          142784 non-null  object \n",
      " 8   ret           142784 non-null  float64\n",
      "dtypes: float64(1), int64(3), object(5)\n",
      "memory usage: 9.8+ MB\n"
     ]
    }
   ],
   "source": [
    "df_factor.info()"
   ]
  },
  {
   "cell_type": "code",
   "execution_count": 7,
   "metadata": {},
   "outputs": [
    {
     "data": {
      "text/html": [
       "<div>\n",
       "<style scoped>\n",
       "    .dataframe tbody tr th:only-of-type {\n",
       "        vertical-align: middle;\n",
       "    }\n",
       "\n",
       "    .dataframe tbody tr th {\n",
       "        vertical-align: top;\n",
       "    }\n",
       "\n",
       "    .dataframe thead th {\n",
       "        text-align: right;\n",
       "    }\n",
       "</style>\n",
       "<table border=\"1\" class=\"dataframe\">\n",
       "  <thead>\n",
       "    <tr style=\"text-align: right;\">\n",
       "      <th></th>\n",
       "      <th>name</th>\n",
       "      <th>date</th>\n",
       "      <th>ret</th>\n",
       "    </tr>\n",
       "  </thead>\n",
       "  <tbody>\n",
       "    <tr>\n",
       "      <th>0</th>\n",
       "      <td>age</td>\n",
       "      <td>1926/03/31</td>\n",
       "      <td>-0.066167</td>\n",
       "    </tr>\n",
       "    <tr>\n",
       "      <th>1</th>\n",
       "      <td>age</td>\n",
       "      <td>1926/04/30</td>\n",
       "      <td>0.010546</td>\n",
       "    </tr>\n",
       "    <tr>\n",
       "      <th>2</th>\n",
       "      <td>age</td>\n",
       "      <td>1926/05/31</td>\n",
       "      <td>-0.020292</td>\n",
       "    </tr>\n",
       "    <tr>\n",
       "      <th>3</th>\n",
       "      <td>age</td>\n",
       "      <td>1926/06/30</td>\n",
       "      <td>-0.008927</td>\n",
       "    </tr>\n",
       "    <tr>\n",
       "      <th>4</th>\n",
       "      <td>age</td>\n",
       "      <td>1926/07/31</td>\n",
       "      <td>0.017724</td>\n",
       "    </tr>\n",
       "  </tbody>\n",
       "</table>\n",
       "</div>"
      ],
      "text/plain": [
       "  name        date       ret\n",
       "0  age  1926/03/31 -0.066167\n",
       "1  age  1926/04/30  0.010546\n",
       "2  age  1926/05/31 -0.020292\n",
       "3  age  1926/06/30 -0.008927\n",
       "4  age  1926/07/31  0.017724"
      ]
     },
     "execution_count": 7,
     "metadata": {},
     "output_type": "execute_result"
    }
   ],
   "source": [
    "df_factor1 = df_factor[['name','date','ret']]\n",
    "df_factor1.head()"
   ]
  },
  {
   "cell_type": "code",
   "execution_count": 8,
   "metadata": {},
   "outputs": [
    {
     "data": {
      "text/plain": [
       "'1926/03/31'"
      ]
     },
     "execution_count": 8,
     "metadata": {},
     "output_type": "execute_result"
    }
   ],
   "source": [
    "df_factor1.iloc[0,1]"
   ]
  },
  {
   "cell_type": "code",
   "execution_count": 9,
   "metadata": {},
   "outputs": [
    {
     "data": {
      "text/plain": [
       "(50, 2)"
      ]
     },
     "execution_count": 9,
     "metadata": {},
     "output_type": "execute_result"
    }
   ],
   "source": [
    "df_index.shape"
   ]
  },
  {
   "cell_type": "code",
   "execution_count": 11,
   "metadata": {},
   "outputs": [
    {
     "data": {
      "text/html": [
       "<div>\n",
       "<style scoped>\n",
       "    .dataframe tbody tr th:only-of-type {\n",
       "        vertical-align: middle;\n",
       "    }\n",
       "\n",
       "    .dataframe tbody tr th {\n",
       "        vertical-align: top;\n",
       "    }\n",
       "\n",
       "    .dataframe thead th {\n",
       "        text-align: right;\n",
       "    }\n",
       "</style>\n",
       "<table border=\"1\" class=\"dataframe\">\n",
       "  <thead>\n",
       "    <tr style=\"text-align: right;\">\n",
       "      <th></th>\n",
       "      <th>name</th>\n",
       "      <th>date</th>\n",
       "      <th>ret</th>\n",
       "    </tr>\n",
       "  </thead>\n",
       "  <tbody>\n",
       "    <tr>\n",
       "      <th>142779</th>\n",
       "      <td>zero_trades_252d</td>\n",
       "      <td>2023/08/31</td>\n",
       "      <td>0.067512</td>\n",
       "    </tr>\n",
       "    <tr>\n",
       "      <th>142780</th>\n",
       "      <td>zero_trades_252d</td>\n",
       "      <td>2023/09/30</td>\n",
       "      <td>0.044560</td>\n",
       "    </tr>\n",
       "    <tr>\n",
       "      <th>142781</th>\n",
       "      <td>zero_trades_252d</td>\n",
       "      <td>2023/10/31</td>\n",
       "      <td>0.064437</td>\n",
       "    </tr>\n",
       "    <tr>\n",
       "      <th>142782</th>\n",
       "      <td>zero_trades_252d</td>\n",
       "      <td>2023/11/30</td>\n",
       "      <td>-0.037080</td>\n",
       "    </tr>\n",
       "    <tr>\n",
       "      <th>142783</th>\n",
       "      <td>zero_trades_252d</td>\n",
       "      <td>2023/12/31</td>\n",
       "      <td>-0.042181</td>\n",
       "    </tr>\n",
       "  </tbody>\n",
       "</table>\n",
       "</div>"
      ],
      "text/plain": [
       "                    name        date       ret\n",
       "142779  zero_trades_252d  2023/08/31  0.067512\n",
       "142780  zero_trades_252d  2023/09/30  0.044560\n",
       "142781  zero_trades_252d  2023/10/31  0.064437\n",
       "142782  zero_trades_252d  2023/11/30 -0.037080\n",
       "142783  zero_trades_252d  2023/12/31 -0.042181"
      ]
     },
     "execution_count": 11,
     "metadata": {},
     "output_type": "execute_result"
    }
   ],
   "source": [
    "df_factor1.tail()"
   ]
  },
  {
   "cell_type": "code",
   "execution_count": 15,
   "metadata": {
    "scrolled": true
   },
   "outputs": [
    {
     "data": {
      "text/plain": [
       "153"
      ]
     },
     "execution_count": 15,
     "metadata": {},
     "output_type": "execute_result"
    }
   ],
   "source": [
    "df_factor1['name'].nunique()"
   ]
  },
  {
   "cell_type": "code",
   "execution_count": 20,
   "metadata": {},
   "outputs": [
    {
     "name": "stdout",
     "output_type": "stream",
     "text": [
      "['prc', 'market_equity', 'ret_1_0', 'coskew_21d', 'zero_trades_21d', 'rvol_21d', 'rskew_21d', 'ivol_capm_21d', 'rmax5_21d', 'iskew_capm_21d']\n"
     ]
    }
   ],
   "source": [
    "list_factor = list(df_factor1['name'].value_counts().index[:10])\n",
    "print(list_factor)"
   ]
  },
  {
   "cell_type": "code",
   "execution_count": 30,
   "metadata": {
    "scrolled": false
   },
   "outputs": [
    {
     "data": {
      "text/html": [
       "<div>\n",
       "<style scoped>\n",
       "    .dataframe tbody tr th:only-of-type {\n",
       "        vertical-align: middle;\n",
       "    }\n",
       "\n",
       "    .dataframe tbody tr th {\n",
       "        vertical-align: top;\n",
       "    }\n",
       "\n",
       "    .dataframe thead th {\n",
       "        text-align: right;\n",
       "    }\n",
       "</style>\n",
       "<table border=\"1\" class=\"dataframe\">\n",
       "  <thead>\n",
       "    <tr style=\"text-align: right;\">\n",
       "      <th></th>\n",
       "      <th>name</th>\n",
       "      <th>date</th>\n",
       "      <th>ret</th>\n",
       "    </tr>\n",
       "  </thead>\n",
       "  <tbody>\n",
       "    <tr>\n",
       "      <th>26049</th>\n",
       "      <td>coskew_21d</td>\n",
       "      <td>1926/02/28</td>\n",
       "      <td>-0.003571</td>\n",
       "    </tr>\n",
       "    <tr>\n",
       "      <th>26050</th>\n",
       "      <td>coskew_21d</td>\n",
       "      <td>1926/03/31</td>\n",
       "      <td>-0.008811</td>\n",
       "    </tr>\n",
       "    <tr>\n",
       "      <th>26051</th>\n",
       "      <td>coskew_21d</td>\n",
       "      <td>1926/04/30</td>\n",
       "      <td>0.021775</td>\n",
       "    </tr>\n",
       "    <tr>\n",
       "      <th>26052</th>\n",
       "      <td>coskew_21d</td>\n",
       "      <td>1926/05/31</td>\n",
       "      <td>-0.003542</td>\n",
       "    </tr>\n",
       "    <tr>\n",
       "      <th>26053</th>\n",
       "      <td>coskew_21d</td>\n",
       "      <td>1926/06/30</td>\n",
       "      <td>-0.002947</td>\n",
       "    </tr>\n",
       "  </tbody>\n",
       "</table>\n",
       "</div>"
      ],
      "text/plain": [
       "             name        date       ret\n",
       "26049  coskew_21d  1926/02/28 -0.003571\n",
       "26050  coskew_21d  1926/03/31 -0.008811\n",
       "26051  coskew_21d  1926/04/30  0.021775\n",
       "26052  coskew_21d  1926/05/31 -0.003542\n",
       "26053  coskew_21d  1926/06/30 -0.002947"
      ]
     },
     "execution_count": 30,
     "metadata": {},
     "output_type": "execute_result"
    }
   ],
   "source": [
    "df_factor2 = df_factor1[df_factor1['name'].isin(list_factor)]\n",
    "df_factor2.head()"
   ]
  },
  {
   "cell_type": "code",
   "execution_count": 29,
   "metadata": {},
   "outputs": [],
   "source": [
    "# df_factor1[df_factor1['name'].apply(lambda x: x in list_factor)]"
   ]
  },
  {
   "cell_type": "code",
   "execution_count": 31,
   "metadata": {},
   "outputs": [
    {
     "data": {
      "text/plain": [
       "(11752, 3)"
      ]
     },
     "execution_count": 31,
     "metadata": {},
     "output_type": "execute_result"
    }
   ],
   "source": [
    "df_factor2.shape"
   ]
  },
  {
   "cell_type": "code",
   "execution_count": 33,
   "metadata": {},
   "outputs": [],
   "source": [
    "list_year = df_index['Date'].apply(lambda x: x.year)"
   ]
  },
  {
   "cell_type": "code",
   "execution_count": 37,
   "metadata": {},
   "outputs": [
    {
     "data": {
      "text/plain": [
       "2023"
      ]
     },
     "execution_count": 37,
     "metadata": {},
     "output_type": "execute_result"
    }
   ],
   "source": [
    "list_year[40]"
   ]
  },
  {
   "cell_type": "code",
   "execution_count": 39,
   "metadata": {},
   "outputs": [
    {
     "data": {
      "text/plain": [
       "True"
      ]
     },
     "execution_count": 39,
     "metadata": {},
     "output_type": "execute_result"
    }
   ],
   "source": [
    "int(df_factor2['date'].str[:4][141610]) == list_year[40]"
   ]
  },
  {
   "cell_type": "code",
   "execution_count": 49,
   "metadata": {
    "scrolled": false
   },
   "outputs": [
    {
     "data": {
      "text/html": [
       "<div>\n",
       "<style scoped>\n",
       "    .dataframe tbody tr th:only-of-type {\n",
       "        vertical-align: middle;\n",
       "    }\n",
       "\n",
       "    .dataframe tbody tr th {\n",
       "        vertical-align: top;\n",
       "    }\n",
       "\n",
       "    .dataframe thead th {\n",
       "        text-align: right;\n",
       "    }\n",
       "</style>\n",
       "<table border=\"1\" class=\"dataframe\">\n",
       "  <thead>\n",
       "    <tr style=\"text-align: right;\">\n",
       "      <th></th>\n",
       "      <th>name</th>\n",
       "      <th>date</th>\n",
       "      <th>ret</th>\n",
       "    </tr>\n",
       "  </thead>\n",
       "  <tbody>\n",
       "    <tr>\n",
       "      <th>27176</th>\n",
       "      <td>coskew_21d</td>\n",
       "      <td>2020/01/31</td>\n",
       "      <td>0.048014</td>\n",
       "    </tr>\n",
       "    <tr>\n",
       "      <th>27177</th>\n",
       "      <td>coskew_21d</td>\n",
       "      <td>2020/02/29</td>\n",
       "      <td>0.002111</td>\n",
       "    </tr>\n",
       "    <tr>\n",
       "      <th>27178</th>\n",
       "      <td>coskew_21d</td>\n",
       "      <td>2020/03/31</td>\n",
       "      <td>0.002806</td>\n",
       "    </tr>\n",
       "    <tr>\n",
       "      <th>27179</th>\n",
       "      <td>coskew_21d</td>\n",
       "      <td>2020/04/30</td>\n",
       "      <td>0.022224</td>\n",
       "    </tr>\n",
       "    <tr>\n",
       "      <th>27180</th>\n",
       "      <td>coskew_21d</td>\n",
       "      <td>2020/05/31</td>\n",
       "      <td>-0.006099</td>\n",
       "    </tr>\n",
       "  </tbody>\n",
       "</table>\n",
       "</div>"
      ],
      "text/plain": [
       "             name        date       ret\n",
       "27176  coskew_21d  2020/01/31  0.048014\n",
       "27177  coskew_21d  2020/02/29  0.002111\n",
       "27178  coskew_21d  2020/03/31  0.002806\n",
       "27179  coskew_21d  2020/04/30  0.022224\n",
       "27180  coskew_21d  2020/05/31 -0.006099"
      ]
     },
     "execution_count": 49,
     "metadata": {},
     "output_type": "execute_result"
    }
   ],
   "source": [
    "a = df_factor2['date'].apply(lambda x: int(x[:4])).isin(list_year)\n",
    "df_factor3 = df_factor2[a]\n",
    "df_factor3.head()"
   ]
  },
  {
   "cell_type": "code",
   "execution_count": 53,
   "metadata": {
    "scrolled": false
   },
   "outputs": [
    {
     "name": "stderr",
     "output_type": "stream",
     "text": [
      "<ipython-input-53-c71c6590252d>:1: SettingWithCopyWarning: \n",
      "A value is trying to be set on a copy of a slice from a DataFrame.\n",
      "Try using .loc[row_indexer,col_indexer] = value instead\n",
      "\n",
      "See the caveats in the documentation: https://pandas.pydata.org/pandas-docs/stable/user_guide/indexing.html#returning-a-view-versus-a-copy\n",
      "  df_factor3['new_date'] = df_factor3['date'].str[:7]\n"
     ]
    },
    {
     "data": {
      "text/html": [
       "<div>\n",
       "<style scoped>\n",
       "    .dataframe tbody tr th:only-of-type {\n",
       "        vertical-align: middle;\n",
       "    }\n",
       "\n",
       "    .dataframe tbody tr th {\n",
       "        vertical-align: top;\n",
       "    }\n",
       "\n",
       "    .dataframe thead th {\n",
       "        text-align: right;\n",
       "    }\n",
       "</style>\n",
       "<table border=\"1\" class=\"dataframe\">\n",
       "  <thead>\n",
       "    <tr style=\"text-align: right;\">\n",
       "      <th></th>\n",
       "      <th>name</th>\n",
       "      <th>date</th>\n",
       "      <th>ret</th>\n",
       "      <th>new_date</th>\n",
       "    </tr>\n",
       "  </thead>\n",
       "  <tbody>\n",
       "    <tr>\n",
       "      <th>27176</th>\n",
       "      <td>coskew_21d</td>\n",
       "      <td>2020/01/31</td>\n",
       "      <td>0.048014</td>\n",
       "      <td>2020/01</td>\n",
       "    </tr>\n",
       "    <tr>\n",
       "      <th>27177</th>\n",
       "      <td>coskew_21d</td>\n",
       "      <td>2020/02/29</td>\n",
       "      <td>0.002111</td>\n",
       "      <td>2020/02</td>\n",
       "    </tr>\n",
       "    <tr>\n",
       "      <th>27178</th>\n",
       "      <td>coskew_21d</td>\n",
       "      <td>2020/03/31</td>\n",
       "      <td>0.002806</td>\n",
       "      <td>2020/03</td>\n",
       "    </tr>\n",
       "    <tr>\n",
       "      <th>27179</th>\n",
       "      <td>coskew_21d</td>\n",
       "      <td>2020/04/30</td>\n",
       "      <td>0.022224</td>\n",
       "      <td>2020/04</td>\n",
       "    </tr>\n",
       "    <tr>\n",
       "      <th>27180</th>\n",
       "      <td>coskew_21d</td>\n",
       "      <td>2020/05/31</td>\n",
       "      <td>-0.006099</td>\n",
       "      <td>2020/05</td>\n",
       "    </tr>\n",
       "  </tbody>\n",
       "</table>\n",
       "</div>"
      ],
      "text/plain": [
       "             name        date       ret new_date\n",
       "27176  coskew_21d  2020/01/31  0.048014  2020/01\n",
       "27177  coskew_21d  2020/02/29  0.002111  2020/02\n",
       "27178  coskew_21d  2020/03/31  0.002806  2020/03\n",
       "27179  coskew_21d  2020/04/30  0.022224  2020/04\n",
       "27180  coskew_21d  2020/05/31 -0.006099  2020/05"
      ]
     },
     "execution_count": 53,
     "metadata": {},
     "output_type": "execute_result"
    }
   ],
   "source": [
    "df_factor3['new_date'] = df_factor3['date'].str[:7]\n",
    "df_factor3.head()"
   ]
  },
  {
   "cell_type": "code",
   "execution_count": 48,
   "metadata": {},
   "outputs": [
    {
     "data": {
      "text/html": [
       "<div>\n",
       "<style scoped>\n",
       "    .dataframe tbody tr th:only-of-type {\n",
       "        vertical-align: middle;\n",
       "    }\n",
       "\n",
       "    .dataframe tbody tr th {\n",
       "        vertical-align: top;\n",
       "    }\n",
       "\n",
       "    .dataframe thead th {\n",
       "        text-align: right;\n",
       "    }\n",
       "</style>\n",
       "<table border=\"1\" class=\"dataframe\">\n",
       "  <thead>\n",
       "    <tr style=\"text-align: right;\">\n",
       "      <th></th>\n",
       "      <th>Date</th>\n",
       "      <th>Value</th>\n",
       "    </tr>\n",
       "  </thead>\n",
       "  <tbody>\n",
       "    <tr>\n",
       "      <th>0</th>\n",
       "      <td>2020-05-31</td>\n",
       "      <td>0.0453</td>\n",
       "    </tr>\n",
       "    <tr>\n",
       "      <th>1</th>\n",
       "      <td>2020-06-30</td>\n",
       "      <td>0.0184</td>\n",
       "    </tr>\n",
       "    <tr>\n",
       "      <th>2</th>\n",
       "      <td>2020-07-31</td>\n",
       "      <td>0.0551</td>\n",
       "    </tr>\n",
       "    <tr>\n",
       "      <th>3</th>\n",
       "      <td>2020-08-31</td>\n",
       "      <td>0.0701</td>\n",
       "    </tr>\n",
       "    <tr>\n",
       "      <th>4</th>\n",
       "      <td>2020-09-30</td>\n",
       "      <td>-0.0392</td>\n",
       "    </tr>\n",
       "  </tbody>\n",
       "</table>\n",
       "</div>"
      ],
      "text/plain": [
       "        Date   Value\n",
       "0 2020-05-31  0.0453\n",
       "1 2020-06-30  0.0184\n",
       "2 2020-07-31  0.0551\n",
       "3 2020-08-31  0.0701\n",
       "4 2020-09-30 -0.0392"
      ]
     },
     "execution_count": 48,
     "metadata": {},
     "output_type": "execute_result"
    }
   ],
   "source": [
    "df_index.head()"
   ]
  },
  {
   "cell_type": "code",
   "execution_count": 55,
   "metadata": {},
   "outputs": [],
   "source": [
    "# df_index['Date'].apply(lambda x: str(x.year)+'/'+str(x.month))"
   ]
  },
  {
   "cell_type": "code",
   "execution_count": 61,
   "metadata": {},
   "outputs": [
    {
     "data": {
      "text/plain": [
       "'2020/05'"
      ]
     },
     "execution_count": 61,
     "metadata": {},
     "output_type": "execute_result"
    }
   ],
   "source": [
    "str(df_index.iloc[0,0]).replace('-','/')[:7]"
   ]
  },
  {
   "cell_type": "code",
   "execution_count": 57,
   "metadata": {},
   "outputs": [
    {
     "data": {
      "text/html": [
       "<div>\n",
       "<style scoped>\n",
       "    .dataframe tbody tr th:only-of-type {\n",
       "        vertical-align: middle;\n",
       "    }\n",
       "\n",
       "    .dataframe tbody tr th {\n",
       "        vertical-align: top;\n",
       "    }\n",
       "\n",
       "    .dataframe thead th {\n",
       "        text-align: right;\n",
       "    }\n",
       "</style>\n",
       "<table border=\"1\" class=\"dataframe\">\n",
       "  <thead>\n",
       "    <tr style=\"text-align: right;\">\n",
       "      <th></th>\n",
       "      <th>Date</th>\n",
       "      <th>Value</th>\n",
       "      <th>value_date</th>\n",
       "    </tr>\n",
       "  </thead>\n",
       "  <tbody>\n",
       "    <tr>\n",
       "      <th>0</th>\n",
       "      <td>2020-05-31</td>\n",
       "      <td>0.0453</td>\n",
       "      <td>2020/05</td>\n",
       "    </tr>\n",
       "    <tr>\n",
       "      <th>1</th>\n",
       "      <td>2020-06-30</td>\n",
       "      <td>0.0184</td>\n",
       "      <td>2020/06</td>\n",
       "    </tr>\n",
       "    <tr>\n",
       "      <th>2</th>\n",
       "      <td>2020-07-31</td>\n",
       "      <td>0.0551</td>\n",
       "      <td>2020/07</td>\n",
       "    </tr>\n",
       "    <tr>\n",
       "      <th>3</th>\n",
       "      <td>2020-08-31</td>\n",
       "      <td>0.0701</td>\n",
       "      <td>2020/08</td>\n",
       "    </tr>\n",
       "    <tr>\n",
       "      <th>4</th>\n",
       "      <td>2020-09-30</td>\n",
       "      <td>-0.0392</td>\n",
       "      <td>2020/09</td>\n",
       "    </tr>\n",
       "  </tbody>\n",
       "</table>\n",
       "</div>"
      ],
      "text/plain": [
       "        Date   Value value_date\n",
       "0 2020-05-31  0.0453    2020/05\n",
       "1 2020-06-30  0.0184    2020/06\n",
       "2 2020-07-31  0.0551    2020/07\n",
       "3 2020-08-31  0.0701    2020/08\n",
       "4 2020-09-30 -0.0392    2020/09"
      ]
     },
     "execution_count": 57,
     "metadata": {},
     "output_type": "execute_result"
    }
   ],
   "source": [
    "b = df_index['Date'].apply(lambda x: str(x).replace('-','/')[:7])\n",
    "df_index['value_date'] = b\n",
    "df_index.head()"
   ]
  },
  {
   "cell_type": "code",
   "execution_count": 62,
   "metadata": {},
   "outputs": [
    {
     "data": {
      "text/plain": [
       "'market_equity'"
      ]
     },
     "execution_count": 62,
     "metadata": {},
     "output_type": "execute_result"
    }
   ],
   "source": [
    "n = 1\n",
    "list_factor[n]"
   ]
  },
  {
   "cell_type": "code",
   "execution_count": 64,
   "metadata": {},
   "outputs": [
    {
     "data": {
      "text/html": [
       "<div>\n",
       "<style scoped>\n",
       "    .dataframe tbody tr th:only-of-type {\n",
       "        vertical-align: middle;\n",
       "    }\n",
       "\n",
       "    .dataframe tbody tr th {\n",
       "        vertical-align: top;\n",
       "    }\n",
       "\n",
       "    .dataframe thead th {\n",
       "        text-align: right;\n",
       "    }\n",
       "</style>\n",
       "<table border=\"1\" class=\"dataframe\">\n",
       "  <thead>\n",
       "    <tr style=\"text-align: right;\">\n",
       "      <th></th>\n",
       "      <th>name</th>\n",
       "      <th>date</th>\n",
       "      <th>ret</th>\n",
       "      <th>new_date</th>\n",
       "    </tr>\n",
       "  </thead>\n",
       "  <tbody>\n",
       "    <tr>\n",
       "      <th>63091</th>\n",
       "      <td>market_equity</td>\n",
       "      <td>2020/01/31</td>\n",
       "      <td>-0.002362</td>\n",
       "      <td>2020/01</td>\n",
       "    </tr>\n",
       "    <tr>\n",
       "      <th>63092</th>\n",
       "      <td>market_equity</td>\n",
       "      <td>2020/02/29</td>\n",
       "      <td>0.013139</td>\n",
       "      <td>2020/02</td>\n",
       "    </tr>\n",
       "    <tr>\n",
       "      <th>63093</th>\n",
       "      <td>market_equity</td>\n",
       "      <td>2020/03/31</td>\n",
       "      <td>-0.056472</td>\n",
       "      <td>2020/03</td>\n",
       "    </tr>\n",
       "    <tr>\n",
       "      <th>63094</th>\n",
       "      <td>market_equity</td>\n",
       "      <td>2020/04/30</td>\n",
       "      <td>0.066234</td>\n",
       "      <td>2020/04</td>\n",
       "    </tr>\n",
       "    <tr>\n",
       "      <th>63095</th>\n",
       "      <td>market_equity</td>\n",
       "      <td>2020/05/31</td>\n",
       "      <td>0.005801</td>\n",
       "      <td>2020/05</td>\n",
       "    </tr>\n",
       "  </tbody>\n",
       "</table>\n",
       "</div>"
      ],
      "text/plain": [
       "                name        date       ret new_date\n",
       "63091  market_equity  2020/01/31 -0.002362  2020/01\n",
       "63092  market_equity  2020/02/29  0.013139  2020/02\n",
       "63093  market_equity  2020/03/31 -0.056472  2020/03\n",
       "63094  market_equity  2020/04/30  0.066234  2020/04\n",
       "63095  market_equity  2020/05/31  0.005801  2020/05"
      ]
     },
     "execution_count": 64,
     "metadata": {},
     "output_type": "execute_result"
    }
   ],
   "source": [
    "df_factor4 = df_factor3[df_factor3['name']==list_factor[n]]\n",
    "df_factor4.head()"
   ]
  },
  {
   "cell_type": "code",
   "execution_count": 66,
   "metadata": {},
   "outputs": [
    {
     "data": {
      "text/html": [
       "<div>\n",
       "<style scoped>\n",
       "    .dataframe tbody tr th:only-of-type {\n",
       "        vertical-align: middle;\n",
       "    }\n",
       "\n",
       "    .dataframe tbody tr th {\n",
       "        vertical-align: top;\n",
       "    }\n",
       "\n",
       "    .dataframe thead th {\n",
       "        text-align: right;\n",
       "    }\n",
       "</style>\n",
       "<table border=\"1\" class=\"dataframe\">\n",
       "  <thead>\n",
       "    <tr style=\"text-align: right;\">\n",
       "      <th></th>\n",
       "      <th>Date</th>\n",
       "      <th>Value</th>\n",
       "      <th>value_date</th>\n",
       "      <th>name</th>\n",
       "      <th>date</th>\n",
       "      <th>ret</th>\n",
       "      <th>new_date</th>\n",
       "    </tr>\n",
       "  </thead>\n",
       "  <tbody>\n",
       "    <tr>\n",
       "      <th>0</th>\n",
       "      <td>2020-05-31</td>\n",
       "      <td>0.0453</td>\n",
       "      <td>2020/05</td>\n",
       "      <td>market_equity</td>\n",
       "      <td>2020/05/31</td>\n",
       "      <td>0.005801</td>\n",
       "      <td>2020/05</td>\n",
       "    </tr>\n",
       "    <tr>\n",
       "      <th>1</th>\n",
       "      <td>2020-06-30</td>\n",
       "      <td>0.0184</td>\n",
       "      <td>2020/06</td>\n",
       "      <td>market_equity</td>\n",
       "      <td>2020/06/30</td>\n",
       "      <td>0.079716</td>\n",
       "      <td>2020/06</td>\n",
       "    </tr>\n",
       "    <tr>\n",
       "      <th>2</th>\n",
       "      <td>2020-07-31</td>\n",
       "      <td>0.0551</td>\n",
       "      <td>2020/07</td>\n",
       "      <td>market_equity</td>\n",
       "      <td>2020/07/31</td>\n",
       "      <td>-0.020536</td>\n",
       "      <td>2020/07</td>\n",
       "    </tr>\n",
       "    <tr>\n",
       "      <th>3</th>\n",
       "      <td>2020-08-31</td>\n",
       "      <td>0.0701</td>\n",
       "      <td>2020/08</td>\n",
       "      <td>market_equity</td>\n",
       "      <td>2020/08/31</td>\n",
       "      <td>-0.003762</td>\n",
       "      <td>2020/08</td>\n",
       "    </tr>\n",
       "    <tr>\n",
       "      <th>4</th>\n",
       "      <td>2020-09-30</td>\n",
       "      <td>-0.0392</td>\n",
       "      <td>2020/09</td>\n",
       "      <td>market_equity</td>\n",
       "      <td>2020/09/30</td>\n",
       "      <td>-0.010444</td>\n",
       "      <td>2020/09</td>\n",
       "    </tr>\n",
       "  </tbody>\n",
       "</table>\n",
       "</div>"
      ],
      "text/plain": [
       "        Date   Value value_date           name        date       ret new_date\n",
       "0 2020-05-31  0.0453    2020/05  market_equity  2020/05/31  0.005801  2020/05\n",
       "1 2020-06-30  0.0184    2020/06  market_equity  2020/06/30  0.079716  2020/06\n",
       "2 2020-07-31  0.0551    2020/07  market_equity  2020/07/31 -0.020536  2020/07\n",
       "3 2020-08-31  0.0701    2020/08  market_equity  2020/08/31 -0.003762  2020/08\n",
       "4 2020-09-30 -0.0392    2020/09  market_equity  2020/09/30 -0.010444  2020/09"
      ]
     },
     "execution_count": 66,
     "metadata": {},
     "output_type": "execute_result"
    }
   ],
   "source": [
    "data_merge = pd.merge(df_index,df_factor4,left_on='value_date',right_on='new_date',how='inner')\n",
    "data_merge.head()"
   ]
  },
  {
   "cell_type": "code",
   "execution_count": 71,
   "metadata": {},
   "outputs": [
    {
     "data": {
      "text/html": [
       "<div>\n",
       "<style scoped>\n",
       "    .dataframe tbody tr th:only-of-type {\n",
       "        vertical-align: middle;\n",
       "    }\n",
       "\n",
       "    .dataframe tbody tr th {\n",
       "        vertical-align: top;\n",
       "    }\n",
       "\n",
       "    .dataframe thead th {\n",
       "        text-align: right;\n",
       "    }\n",
       "</style>\n",
       "<table border=\"1\" class=\"dataframe\">\n",
       "  <thead>\n",
       "    <tr style=\"text-align: right;\">\n",
       "      <th></th>\n",
       "      <th>factor_name</th>\n",
       "      <th>year-month</th>\n",
       "      <th>index_return</th>\n",
       "      <th>factor_return</th>\n",
       "    </tr>\n",
       "  </thead>\n",
       "  <tbody>\n",
       "    <tr>\n",
       "      <th>0</th>\n",
       "      <td>market_equity</td>\n",
       "      <td>2020/05</td>\n",
       "      <td>0.0453</td>\n",
       "      <td>0.005801</td>\n",
       "    </tr>\n",
       "    <tr>\n",
       "      <th>1</th>\n",
       "      <td>market_equity</td>\n",
       "      <td>2020/06</td>\n",
       "      <td>0.0184</td>\n",
       "      <td>0.079716</td>\n",
       "    </tr>\n",
       "    <tr>\n",
       "      <th>2</th>\n",
       "      <td>market_equity</td>\n",
       "      <td>2020/07</td>\n",
       "      <td>0.0551</td>\n",
       "      <td>-0.020536</td>\n",
       "    </tr>\n",
       "    <tr>\n",
       "      <th>3</th>\n",
       "      <td>market_equity</td>\n",
       "      <td>2020/08</td>\n",
       "      <td>0.0701</td>\n",
       "      <td>-0.003762</td>\n",
       "    </tr>\n",
       "    <tr>\n",
       "      <th>4</th>\n",
       "      <td>market_equity</td>\n",
       "      <td>2020/09</td>\n",
       "      <td>-0.0392</td>\n",
       "      <td>-0.010444</td>\n",
       "    </tr>\n",
       "  </tbody>\n",
       "</table>\n",
       "</div>"
      ],
      "text/plain": [
       "     factor_name year-month  index_return  factor_return\n",
       "0  market_equity    2020/05        0.0453       0.005801\n",
       "1  market_equity    2020/06        0.0184       0.079716\n",
       "2  market_equity    2020/07        0.0551      -0.020536\n",
       "3  market_equity    2020/08        0.0701      -0.003762\n",
       "4  market_equity    2020/09       -0.0392      -0.010444"
      ]
     },
     "execution_count": 71,
     "metadata": {},
     "output_type": "execute_result"
    }
   ],
   "source": [
    "data_merge2 = data_merge.rename(columns={'Value':'index_return','ret':'factor_return','new_date':'year-month','name':'factor_name'})\n",
    "df_factor5 = data_merge2[['factor_name','year-month','index_return','factor_return']]\n",
    "df_factor5.head()"
   ]
  },
  {
   "cell_type": "code",
   "execution_count": 72,
   "metadata": {},
   "outputs": [],
   "source": [
    "final1 = df_factor5"
   ]
  },
  {
   "cell_type": "code",
   "execution_count": 74,
   "metadata": {},
   "outputs": [
    {
     "data": {
      "text/plain": [
       "-0.04458630984705068"
      ]
     },
     "execution_count": 74,
     "metadata": {},
     "output_type": "execute_result"
    }
   ],
   "source": [
    "np.corrcoef(final1['index_return'] , final1['factor_return'])[0,1]"
   ]
  },
  {
   "cell_type": "code",
   "execution_count": 75,
   "metadata": {},
   "outputs": [],
   "source": [
    "import statsmodels.api as sm"
   ]
  },
  {
   "cell_type": "code",
   "execution_count": 76,
   "metadata": {},
   "outputs": [
    {
     "name": "stderr",
     "output_type": "stream",
     "text": [
      "<ipython-input-76-8a8dc98b3e22>:1: SettingWithCopyWarning: \n",
      "A value is trying to be set on a copy of a slice from a DataFrame.\n",
      "Try using .loc[row_indexer,col_indexer] = value instead\n",
      "\n",
      "See the caveats in the documentation: https://pandas.pydata.org/pandas-docs/stable/user_guide/indexing.html#returning-a-view-versus-a-copy\n",
      "  final1['intercept'] = 1\n"
     ]
    },
    {
     "data": {
      "text/html": [
       "<div>\n",
       "<style scoped>\n",
       "    .dataframe tbody tr th:only-of-type {\n",
       "        vertical-align: middle;\n",
       "    }\n",
       "\n",
       "    .dataframe tbody tr th {\n",
       "        vertical-align: top;\n",
       "    }\n",
       "\n",
       "    .dataframe thead th {\n",
       "        text-align: right;\n",
       "    }\n",
       "</style>\n",
       "<table border=\"1\" class=\"dataframe\">\n",
       "  <thead>\n",
       "    <tr style=\"text-align: right;\">\n",
       "      <th></th>\n",
       "      <th>factor_name</th>\n",
       "      <th>year-month</th>\n",
       "      <th>index_return</th>\n",
       "      <th>factor_return</th>\n",
       "      <th>intercept</th>\n",
       "    </tr>\n",
       "  </thead>\n",
       "  <tbody>\n",
       "    <tr>\n",
       "      <th>0</th>\n",
       "      <td>market_equity</td>\n",
       "      <td>2020/05</td>\n",
       "      <td>0.0453</td>\n",
       "      <td>0.005801</td>\n",
       "      <td>1</td>\n",
       "    </tr>\n",
       "    <tr>\n",
       "      <th>1</th>\n",
       "      <td>market_equity</td>\n",
       "      <td>2020/06</td>\n",
       "      <td>0.0184</td>\n",
       "      <td>0.079716</td>\n",
       "      <td>1</td>\n",
       "    </tr>\n",
       "    <tr>\n",
       "      <th>2</th>\n",
       "      <td>market_equity</td>\n",
       "      <td>2020/07</td>\n",
       "      <td>0.0551</td>\n",
       "      <td>-0.020536</td>\n",
       "      <td>1</td>\n",
       "    </tr>\n",
       "    <tr>\n",
       "      <th>3</th>\n",
       "      <td>market_equity</td>\n",
       "      <td>2020/08</td>\n",
       "      <td>0.0701</td>\n",
       "      <td>-0.003762</td>\n",
       "      <td>1</td>\n",
       "    </tr>\n",
       "    <tr>\n",
       "      <th>4</th>\n",
       "      <td>market_equity</td>\n",
       "      <td>2020/09</td>\n",
       "      <td>-0.0392</td>\n",
       "      <td>-0.010444</td>\n",
       "      <td>1</td>\n",
       "    </tr>\n",
       "  </tbody>\n",
       "</table>\n",
       "</div>"
      ],
      "text/plain": [
       "     factor_name year-month  index_return  factor_return  intercept\n",
       "0  market_equity    2020/05        0.0453       0.005801          1\n",
       "1  market_equity    2020/06        0.0184       0.079716          1\n",
       "2  market_equity    2020/07        0.0551      -0.020536          1\n",
       "3  market_equity    2020/08        0.0701      -0.003762          1\n",
       "4  market_equity    2020/09       -0.0392      -0.010444          1"
      ]
     },
     "execution_count": 76,
     "metadata": {},
     "output_type": "execute_result"
    }
   ],
   "source": [
    "final1['intercept'] = 1\n",
    "final1.head()"
   ]
  },
  {
   "cell_type": "code",
   "execution_count": 79,
   "metadata": {
    "scrolled": false
   },
   "outputs": [
    {
     "data": {
      "text/html": [
       "<table class=\"simpletable\">\n",
       "<caption>OLS Regression Results</caption>\n",
       "<tr>\n",
       "  <th>Dep. Variable:</th>      <td>index_return</td>   <th>  R-squared:         </th> <td>   0.002</td>\n",
       "</tr>\n",
       "<tr>\n",
       "  <th>Model:</th>                   <td>OLS</td>       <th>  Adj. R-squared:    </th> <td>  -0.022</td>\n",
       "</tr>\n",
       "<tr>\n",
       "  <th>Method:</th>             <td>Least Squares</td>  <th>  F-statistic:       </th> <td> 0.08366</td>\n",
       "</tr>\n",
       "<tr>\n",
       "  <th>Date:</th>             <td>Sat, 03 Aug 2024</td> <th>  Prob (F-statistic):</th>  <td> 0.774</td> \n",
       "</tr>\n",
       "<tr>\n",
       "  <th>Time:</th>                 <td>09:31:13</td>     <th>  Log-Likelihood:    </th> <td>  69.325</td>\n",
       "</tr>\n",
       "<tr>\n",
       "  <th>No. Observations:</th>      <td>    44</td>      <th>  AIC:               </th> <td>  -134.6</td>\n",
       "</tr>\n",
       "<tr>\n",
       "  <th>Df Residuals:</th>          <td>    42</td>      <th>  BIC:               </th> <td>  -131.1</td>\n",
       "</tr>\n",
       "<tr>\n",
       "  <th>Df Model:</th>              <td>     1</td>      <th>                     </th>     <td> </td>   \n",
       "</tr>\n",
       "<tr>\n",
       "  <th>Covariance Type:</th>      <td>nonrobust</td>    <th>                     </th>     <td> </td>   \n",
       "</tr>\n",
       "</table>\n",
       "<table class=\"simpletable\">\n",
       "<tr>\n",
       "        <td></td>           <th>coef</th>     <th>std err</th>      <th>t</th>      <th>P>|t|</th>  <th>[0.025</th>    <th>0.975]</th>  \n",
       "</tr>\n",
       "<tr>\n",
       "  <th>factor_return</th> <td>   -0.0468</td> <td>    0.162</td> <td>   -0.289</td> <td> 0.774</td> <td>   -0.373</td> <td>    0.280</td>\n",
       "</tr>\n",
       "<tr>\n",
       "  <th>intercept</th>     <td>    0.0124</td> <td>    0.008</td> <td>    1.604</td> <td> 0.116</td> <td>   -0.003</td> <td>    0.028</td>\n",
       "</tr>\n",
       "</table>\n",
       "<table class=\"simpletable\">\n",
       "<tr>\n",
       "  <th>Omnibus:</th>       <td> 1.743</td> <th>  Durbin-Watson:     </th> <td>   2.333</td>\n",
       "</tr>\n",
       "<tr>\n",
       "  <th>Prob(Omnibus):</th> <td> 0.418</td> <th>  Jarque-Bera (JB):  </th> <td>   1.498</td>\n",
       "</tr>\n",
       "<tr>\n",
       "  <th>Skew:</th>          <td>-0.304</td> <th>  Prob(JB):          </th> <td>   0.473</td>\n",
       "</tr>\n",
       "<tr>\n",
       "  <th>Kurtosis:</th>      <td> 2.331</td> <th>  Cond. No.          </th> <td>    20.9</td>\n",
       "</tr>\n",
       "</table><br/><br/>Warnings:<br/>[1] Standard Errors assume that the covariance matrix of the errors is correctly specified."
      ],
      "text/plain": [
       "<class 'statsmodels.iolib.summary.Summary'>\n",
       "\"\"\"\n",
       "                            OLS Regression Results                            \n",
       "==============================================================================\n",
       "Dep. Variable:           index_return   R-squared:                       0.002\n",
       "Model:                            OLS   Adj. R-squared:                 -0.022\n",
       "Method:                 Least Squares   F-statistic:                   0.08366\n",
       "Date:                Sat, 03 Aug 2024   Prob (F-statistic):              0.774\n",
       "Time:                        09:31:13   Log-Likelihood:                 69.325\n",
       "No. Observations:                  44   AIC:                            -134.6\n",
       "Df Residuals:                      42   BIC:                            -131.1\n",
       "Df Model:                           1                                         \n",
       "Covariance Type:            nonrobust                                         \n",
       "=================================================================================\n",
       "                    coef    std err          t      P>|t|      [0.025      0.975]\n",
       "---------------------------------------------------------------------------------\n",
       "factor_return    -0.0468      0.162     -0.289      0.774      -0.373       0.280\n",
       "intercept         0.0124      0.008      1.604      0.116      -0.003       0.028\n",
       "==============================================================================\n",
       "Omnibus:                        1.743   Durbin-Watson:                   2.333\n",
       "Prob(Omnibus):                  0.418   Jarque-Bera (JB):                1.498\n",
       "Skew:                          -0.304   Prob(JB):                        0.473\n",
       "Kurtosis:                       2.331   Cond. No.                         20.9\n",
       "==============================================================================\n",
       "\n",
       "Warnings:\n",
       "[1] Standard Errors assume that the covariance matrix of the errors is correctly specified.\n",
       "\"\"\""
      ]
     },
     "execution_count": 79,
     "metadata": {},
     "output_type": "execute_result"
    }
   ],
   "source": [
    "lm = sm.OLS(final1['index_return'] , final1[['factor_return','intercept']])\n",
    "lm.fit().summary()"
   ]
  },
  {
   "cell_type": "code",
   "execution_count": 80,
   "metadata": {},
   "outputs": [
    {
     "data": {
      "text/html": [
       "<div>\n",
       "<style scoped>\n",
       "    .dataframe tbody tr th:only-of-type {\n",
       "        vertical-align: middle;\n",
       "    }\n",
       "\n",
       "    .dataframe tbody tr th {\n",
       "        vertical-align: top;\n",
       "    }\n",
       "\n",
       "    .dataframe thead th {\n",
       "        text-align: right;\n",
       "    }\n",
       "</style>\n",
       "<table border=\"1\" class=\"dataframe\">\n",
       "  <thead>\n",
       "    <tr style=\"text-align: right;\">\n",
       "      <th></th>\n",
       "      <th>name</th>\n",
       "      <th>date</th>\n",
       "      <th>ret</th>\n",
       "      <th>new_date</th>\n",
       "    </tr>\n",
       "  </thead>\n",
       "  <tbody>\n",
       "    <tr>\n",
       "      <th>27176</th>\n",
       "      <td>coskew_21d</td>\n",
       "      <td>2020/01/31</td>\n",
       "      <td>0.048014</td>\n",
       "      <td>2020/01</td>\n",
       "    </tr>\n",
       "    <tr>\n",
       "      <th>27177</th>\n",
       "      <td>coskew_21d</td>\n",
       "      <td>2020/02/29</td>\n",
       "      <td>0.002111</td>\n",
       "      <td>2020/02</td>\n",
       "    </tr>\n",
       "    <tr>\n",
       "      <th>27178</th>\n",
       "      <td>coskew_21d</td>\n",
       "      <td>2020/03/31</td>\n",
       "      <td>0.002806</td>\n",
       "      <td>2020/03</td>\n",
       "    </tr>\n",
       "    <tr>\n",
       "      <th>27179</th>\n",
       "      <td>coskew_21d</td>\n",
       "      <td>2020/04/30</td>\n",
       "      <td>0.022224</td>\n",
       "      <td>2020/04</td>\n",
       "    </tr>\n",
       "    <tr>\n",
       "      <th>27180</th>\n",
       "      <td>coskew_21d</td>\n",
       "      <td>2020/05/31</td>\n",
       "      <td>-0.006099</td>\n",
       "      <td>2020/05</td>\n",
       "    </tr>\n",
       "  </tbody>\n",
       "</table>\n",
       "</div>"
      ],
      "text/plain": [
       "             name        date       ret new_date\n",
       "27176  coskew_21d  2020/01/31  0.048014  2020/01\n",
       "27177  coskew_21d  2020/02/29  0.002111  2020/02\n",
       "27178  coskew_21d  2020/03/31  0.002806  2020/03\n",
       "27179  coskew_21d  2020/04/30  0.022224  2020/04\n",
       "27180  coskew_21d  2020/05/31 -0.006099  2020/05"
      ]
     },
     "execution_count": 80,
     "metadata": {},
     "output_type": "execute_result"
    }
   ],
   "source": [
    "df_factor3.head()"
   ]
  },
  {
   "cell_type": "code",
   "execution_count": 81,
   "metadata": {},
   "outputs": [
    {
     "data": {
      "text/plain": [
       "['prc',\n",
       " 'market_equity',\n",
       " 'ret_1_0',\n",
       " 'coskew_21d',\n",
       " 'zero_trades_21d',\n",
       " 'rvol_21d',\n",
       " 'rskew_21d',\n",
       " 'ivol_capm_21d',\n",
       " 'rmax5_21d',\n",
       " 'iskew_capm_21d']"
      ]
     },
     "execution_count": 81,
     "metadata": {},
     "output_type": "execute_result"
    }
   ],
   "source": [
    "list_factor"
   ]
  },
  {
   "cell_type": "code",
   "execution_count": 85,
   "metadata": {},
   "outputs": [],
   "source": [
    "total_return = {}\n",
    "\n",
    "for i in list_factor:\n",
    "    df1 = df_factor3[df_factor3['name']==i]\n",
    "    df2 = pd.merge(df_index,df1,left_on='value_date',right_on='new_date',how='inner')\n",
    "    total_return[i] = np.corrcoef(df2['ret'] , df2['Value'])[0,1]"
   ]
  },
  {
   "cell_type": "code",
   "execution_count": 86,
   "metadata": {},
   "outputs": [
    {
     "data": {
      "text/plain": [
       "{'prc': 0.03692922274854804,\n",
       " 'market_equity': -0.044586309847050684,\n",
       " 'ret_1_0': 0.2991285526692874,\n",
       " 'coskew_21d': -0.11422087361212509,\n",
       " 'zero_trades_21d': -0.4562461207751767,\n",
       " 'rvol_21d': -0.4693619902591851,\n",
       " 'rskew_21d': -0.11141947469193673,\n",
       " 'ivol_capm_21d': -0.4305939600909158,\n",
       " 'rmax5_21d': -0.4686749359350527,\n",
       " 'iskew_capm_21d': -0.07383996791314383}"
      ]
     },
     "execution_count": 86,
     "metadata": {},
     "output_type": "execute_result"
    }
   ],
   "source": [
    "total_return"
   ]
  },
  {
   "cell_type": "code",
   "execution_count": 95,
   "metadata": {},
   "outputs": [],
   "source": [
    "my_max = max([abs(i) for i in total_return.values()])"
   ]
  },
  {
   "cell_type": "code",
   "execution_count": 96,
   "metadata": {},
   "outputs": [
    {
     "data": {
      "text/plain": [
       "['rvol_21d']"
      ]
     },
     "execution_count": 96,
     "metadata": {},
     "output_type": "execute_result"
    }
   ],
   "source": [
    "[i for (i,j) in total_return.items() if j==my_max or j==my_max*-1]"
   ]
  }
 ],
 "metadata": {
  "hide_input": false,
  "kernelspec": {
   "display_name": "Python 3",
   "language": "python",
   "name": "python3"
  },
  "language_info": {
   "codemirror_mode": {
    "name": "ipython",
    "version": 3
   },
   "file_extension": ".py",
   "mimetype": "text/x-python",
   "name": "python",
   "nbconvert_exporter": "python",
   "pygments_lexer": "ipython3",
   "version": "3.8.3"
  },
  "varInspector": {
   "cols": {
    "lenName": 16,
    "lenType": 16,
    "lenVar": 40
   },
   "kernels_config": {
    "python": {
     "delete_cmd_postfix": "",
     "delete_cmd_prefix": "del ",
     "library": "var_list.py",
     "varRefreshCmd": "print(var_dic_list())"
    },
    "r": {
     "delete_cmd_postfix": ") ",
     "delete_cmd_prefix": "rm(",
     "library": "var_list.r",
     "varRefreshCmd": "cat(var_dic_list()) "
    }
   },
   "types_to_exclude": [
    "module",
    "function",
    "builtin_function_or_method",
    "instance",
    "_Feature"
   ],
   "window_display": false
  }
 },
 "nbformat": 4,
 "nbformat_minor": 4
}
